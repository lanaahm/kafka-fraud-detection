{
 "cells": [
  {
   "cell_type": "code",
   "execution_count": 2,
   "id": "37ce28f9-df41-4ced-8974-15030e34a0fc",
   "metadata": {
    "tags": []
   },
   "outputs": [
    {
     "name": "stdout",
     "output_type": "stream",
     "text": [
      "test\n",
      "(6362620, 7)\n",
      "{'step': 1, 'type': 'PAYMENT', 'amount': 9839.64, 'nameOrig': 'C1231006815', 'newbalanceOrig': 160296.36, 'nameDest': 'M1979787155', 'newbalanceDest': 0.0}\n",
      "{'step': 1, 'type': 'PAYMENT', 'amount': 1864.28, 'nameOrig': 'C1666544295', 'newbalanceOrig': 19384.72, 'nameDest': 'M2044282225', 'newbalanceDest': 0.0}\n",
      "{'step': 1, 'type': 'TRANSFER', 'amount': 181.0, 'nameOrig': 'C1305486145', 'newbalanceOrig': 0.0, 'nameDest': 'C553264065', 'newbalanceDest': 0.0}\n",
      "{'step': 1, 'type': 'CASH_OUT', 'amount': 181.0, 'nameOrig': 'C840083671', 'newbalanceOrig': 0.0, 'nameDest': 'C38997010', 'newbalanceDest': 0.0}\n",
      "{'step': 1, 'type': 'PAYMENT', 'amount': 11668.14, 'nameOrig': 'C2048537720', 'newbalanceOrig': 29885.86, 'nameDest': 'M1230701703', 'newbalanceDest': 0.0}\n",
      "{'step': 1, 'type': 'PAYMENT', 'amount': 7817.71, 'nameOrig': 'C90045638', 'newbalanceOrig': 46042.29, 'nameDest': 'M573487274', 'newbalanceDest': 0.0}\n",
      "{'step': 1, 'type': 'PAYMENT', 'amount': 7107.77, 'nameOrig': 'C154988899', 'newbalanceOrig': 176087.23, 'nameDest': 'M408069119', 'newbalanceDest': 0.0}\n",
      "{'step': 1, 'type': 'PAYMENT', 'amount': 7861.64, 'nameOrig': 'C1912850431', 'newbalanceOrig': 168225.59, 'nameDest': 'M633326333', 'newbalanceDest': 0.0}\n",
      "{'step': 1, 'type': 'PAYMENT', 'amount': 4024.36, 'nameOrig': 'C1265012928', 'newbalanceOrig': 0.0, 'nameDest': 'M1176932104', 'newbalanceDest': 0.0}\n",
      "{'step': 1, 'type': 'DEBIT', 'amount': 5337.77, 'nameOrig': 'C712410124', 'newbalanceOrig': 36382.23, 'nameDest': 'C195600860', 'newbalanceDest': 40348.79}\n",
      "{'step': 1, 'type': 'DEBIT', 'amount': 9644.94, 'nameOrig': 'C1900366749', 'newbalanceOrig': 0.0, 'nameDest': 'C997608398', 'newbalanceDest': 157982.12}\n",
      "{'step': 1, 'type': 'PAYMENT', 'amount': 3099.97, 'nameOrig': 'C249177573', 'newbalanceOrig': 17671.03, 'nameDest': 'M2096539129', 'newbalanceDest': 0.0}\n",
      "{'step': 1, 'type': 'PAYMENT', 'amount': 2560.74, 'nameOrig': 'C1648232591', 'newbalanceOrig': 2509.26, 'nameDest': 'M972865270', 'newbalanceDest': 0.0}\n",
      "{'step': 1, 'type': 'PAYMENT', 'amount': 11633.76, 'nameOrig': 'C1716932897', 'newbalanceOrig': 0.0, 'nameDest': 'M801569151', 'newbalanceDest': 0.0}\n",
      "{'step': 1, 'type': 'PAYMENT', 'amount': 4098.78, 'nameOrig': 'C1026483832', 'newbalanceOrig': 499165.22, 'nameDest': 'M1635378213', 'newbalanceDest': 0.0}\n",
      "{'step': 1, 'type': 'CASH_OUT', 'amount': 229133.94, 'nameOrig': 'C905080434', 'newbalanceOrig': 0.0, 'nameDest': 'C476402209', 'newbalanceDest': 51513.44}\n",
      "{'step': 1, 'type': 'PAYMENT', 'amount': 1563.82, 'nameOrig': 'C761750706', 'newbalanceOrig': 0.0, 'nameDest': 'M1731217984', 'newbalanceDest': 0.0}\n",
      "{'step': 1, 'type': 'PAYMENT', 'amount': 1157.86, 'nameOrig': 'C1237762639', 'newbalanceOrig': 19998.14, 'nameDest': 'M1877062907', 'newbalanceDest': 0.0}\n",
      "{'step': 1, 'type': 'PAYMENT', 'amount': 671.64, 'nameOrig': 'C2033524545', 'newbalanceOrig': 14451.36, 'nameDest': 'M473053293', 'newbalanceDest': 0.0}\n",
      "{'step': 1, 'type': 'TRANSFER', 'amount': 215310.3, 'nameOrig': 'C1670993182', 'newbalanceOrig': 0.0, 'nameDest': 'C1100439041', 'newbalanceDest': 0.0}\n"
     ]
    }
   ],
   "source": [
    "#!python3\n",
    "\n",
    "import json\n",
    "import time\n",
    "import pandas as pd\n",
    "from kafka import KafkaProducer\n",
    "print(\"test\")\n",
    "def json_serializer(data):\n",
    "    return json.dumps(data).encode(\"utf-8\")\n",
    "\n",
    "if __name__ == \"__main__\":\n",
    "\n",
    "    data = pd.read_csv('New_Information.csv')\n",
    "    print(data.shape)\n",
    "    json_data = data.to_dict(orient='records')\n",
    "    \n",
    "    producer = KafkaProducer(bootstrap_servers=['localhost'], value_serializer=json_serializer)\n",
    "    cnt = 0\n",
    "    while True:\n",
    "        stop = False\n",
    "        for data in json_data:\n",
    "            print(data)\n",
    "            producer.send(\"project_4\", data)\n",
    "            time.sleep(1)\n",
    "            cnt += 1 \n",
    "            if cnt == 20:\n",
    "                stop = True\n",
    "                break\n",
    "        if stop:\n",
    "            break"
   ]
  },
  {
   "cell_type": "code",
   "execution_count": null,
   "id": "bbd0fbf7-664d-47df-a66c-05b4587caab3",
   "metadata": {},
   "outputs": [],
   "source": []
  }
 ],
 "metadata": {
  "kernelspec": {
   "display_name": "Python 3 (ipykernel)",
   "language": "python",
   "name": "python3"
  },
  "language_info": {
   "codemirror_mode": {
    "name": "ipython",
    "version": 3
   },
   "file_extension": ".py",
   "mimetype": "text/x-python",
   "name": "python",
   "nbconvert_exporter": "python",
   "pygments_lexer": "ipython3",
   "version": "3.9.7"
  }
 },
 "nbformat": 4,
 "nbformat_minor": 5
}
